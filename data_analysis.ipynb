{
 "cells": [
  {
   "cell_type": "code",
   "execution_count": 3,
   "metadata": {},
   "outputs": [],
   "source": [
    "import geopandas as gpd\n",
    "import pandas as pd\n",
    "import numpy as np\n",
    "import re\n"
   ]
  },
  {
   "cell_type": "markdown",
   "metadata": {},
   "source": [
    "## Go back to the original dataset with road types\n",
    "\n",
    "#### 1. Apply the function add_space to make the road names the same\n",
    "#### 2. Classify the road_names inorder to get the different road types classified under female, male, object and/or plant."
   ]
  },
  {
   "cell_type": "code",
   "execution_count": 5,
   "metadata": {},
   "outputs": [
    {
     "data": {
      "text/html": [
       "<div>\n",
       "<style scoped>\n",
       "    .dataframe tbody tr th:only-of-type {\n",
       "        vertical-align: middle;\n",
       "    }\n",
       "\n",
       "    .dataframe tbody tr th {\n",
       "        vertical-align: top;\n",
       "    }\n",
       "\n",
       "    .dataframe thead th {\n",
       "        text-align: right;\n",
       "    }\n",
       "</style>\n",
       "<table border=\"1\" class=\"dataframe\">\n",
       "  <thead>\n",
       "    <tr style=\"text-align: right;\">\n",
       "      <th></th>\n",
       "      <th>ROAD_NAME</th>\n",
       "      <th>ROAD_TYPE</th>\n",
       "      <th>OSM_ID</th>\n",
       "      <th>geometry</th>\n",
       "    </tr>\n",
       "  </thead>\n",
       "  <tbody>\n",
       "    <tr>\n",
       "      <th>0</th>\n",
       "      <td>Beneluxbaan</td>\n",
       "      <td>Secondary</td>\n",
       "      <td>7.362525e+06</td>\n",
       "      <td>LINESTRING (4.8693 52.32187, 4.8693 52.32191)</td>\n",
       "    </tr>\n",
       "    <tr>\n",
       "      <th>1</th>\n",
       "      <td>Floraweg</td>\n",
       "      <td>Unclassified</td>\n",
       "      <td>9.782571e+08</td>\n",
       "      <td>LINESTRING (4.91147 52.40009, 4.91142 52.40009...</td>\n",
       "    </tr>\n",
       "    <tr>\n",
       "      <th>2</th>\n",
       "      <td>Asterweg</td>\n",
       "      <td>Tertiary</td>\n",
       "      <td>1.011127e+09</td>\n",
       "      <td>LINESTRING (4.90246 52.39359, 4.9025 52.39354,...</td>\n",
       "    </tr>\n",
       "    <tr>\n",
       "      <th>3</th>\n",
       "      <td>Th. K. Van Lohuizenlaan</td>\n",
       "      <td>Tertiary</td>\n",
       "      <td>9.312338e+08</td>\n",
       "      <td>LINESTRING (4.94618 52.3673, 4.94618 52.36742)</td>\n",
       "    </tr>\n",
       "    <tr>\n",
       "      <th>4</th>\n",
       "      <td>Th. K. Van Lohuizenlaan</td>\n",
       "      <td>Tertiary</td>\n",
       "      <td>9.312338e+08</td>\n",
       "      <td>LINESTRING (4.9462 52.36663, 4.94619 52.36686)</td>\n",
       "    </tr>\n",
       "  </tbody>\n",
       "</table>\n",
       "</div>"
      ],
      "text/plain": [
       "                 ROAD_NAME     ROAD_TYPE        OSM_ID  \\\n",
       "0              Beneluxbaan     Secondary  7.362525e+06   \n",
       "1                 Floraweg  Unclassified  9.782571e+08   \n",
       "2                 Asterweg      Tertiary  1.011127e+09   \n",
       "3  Th. K. Van Lohuizenlaan      Tertiary  9.312338e+08   \n",
       "4  Th. K. Van Lohuizenlaan      Tertiary  9.312338e+08   \n",
       "\n",
       "                                            geometry  \n",
       "0      LINESTRING (4.8693 52.32187, 4.8693 52.32191)  \n",
       "1  LINESTRING (4.91147 52.40009, 4.91142 52.40009...  \n",
       "2  LINESTRING (4.90246 52.39359, 4.9025 52.39354,...  \n",
       "3     LINESTRING (4.94618 52.3673, 4.94618 52.36742)  \n",
       "4     LINESTRING (4.9462 52.36663, 4.94619 52.36686)  "
      ]
     },
     "execution_count": 5,
     "metadata": {},
     "output_type": "execute_result"
    }
   ],
   "source": [
    "ams_roads = gpd.read_file('/Users/sharaishuro/Documents/Shemaps/8%_project/ams_roads/amsterdam_roads1.shp')\n",
    "ams_roads.head()"
   ]
  },
  {
   "cell_type": "code",
   "execution_count": 4,
   "metadata": {},
   "outputs": [],
   "source": [
    "# Define a regex pattern that ensures the street type is not already separated\n",
    "STREET_TYPES_PATTERN = re.compile(r'(?<!\\s)(straat|brug|singel|burg|hof|plein|gracht|laan|weg|boulevard|steeg|gouw|post|pad|park|baan|plantsoen|toren|berg|veld|dreef|dorp|dijk|kade)\\b', re.IGNORECASE)\n",
    "\n",
    "def add_space(road_name):\n",
    "    if isinstance(road_name, str):\n",
    "        return STREET_TYPES_PATTERN.sub(r' \\1', road_name)\n",
    "    return road_name"
   ]
  },
  {
   "cell_type": "code",
   "execution_count": 5,
   "metadata": {},
   "outputs": [],
   "source": [
    "ams_roads['ROAD_NAME'] =ams_roads['ROAD_NAME'].apply(add_space)"
   ]
  },
  {
   "cell_type": "code",
   "execution_count": 6,
   "metadata": {},
   "outputs": [],
   "source": [
    "ams_roads=ams_roads.rename(columns={'ROAD_NAME':'road_name'})"
   ]
  },
  {
   "cell_type": "code",
   "execution_count": 6,
   "metadata": {},
   "outputs": [
    {
     "data": {
      "text/html": [
       "<div>\n",
       "<style scoped>\n",
       "    .dataframe tbody tr th:only-of-type {\n",
       "        vertical-align: middle;\n",
       "    }\n",
       "\n",
       "    .dataframe tbody tr th {\n",
       "        vertical-align: top;\n",
       "    }\n",
       "\n",
       "    .dataframe thead th {\n",
       "        text-align: right;\n",
       "    }\n",
       "</style>\n",
       "<table border=\"1\" class=\"dataframe\">\n",
       "  <thead>\n",
       "    <tr style=\"text-align: right;\">\n",
       "      <th></th>\n",
       "      <th>Unnamed: 0</th>\n",
       "      <th>road_name</th>\n",
       "      <th>gender</th>\n",
       "      <th>classification</th>\n",
       "    </tr>\n",
       "  </thead>\n",
       "  <tbody>\n",
       "    <tr>\n",
       "      <th>0</th>\n",
       "      <td>0</td>\n",
       "      <td>'S-Gravelandse Veer</td>\n",
       "      <td>male</td>\n",
       "      <td>human</td>\n",
       "    </tr>\n",
       "    <tr>\n",
       "      <th>1</th>\n",
       "      <td>1</td>\n",
       "      <td>A. Moen straat</td>\n",
       "      <td>male</td>\n",
       "      <td>human</td>\n",
       "    </tr>\n",
       "    <tr>\n",
       "      <th>2</th>\n",
       "      <td>2</td>\n",
       "      <td>Akkerwinde weg</td>\n",
       "      <td>male</td>\n",
       "      <td>human</td>\n",
       "    </tr>\n",
       "    <tr>\n",
       "      <th>3</th>\n",
       "      <td>3</td>\n",
       "      <td>Akoleien straat</td>\n",
       "      <td>unknown</td>\n",
       "      <td>other</td>\n",
       "    </tr>\n",
       "    <tr>\n",
       "      <th>4</th>\n",
       "      <td>4</td>\n",
       "      <td>Alexander straat</td>\n",
       "      <td>male</td>\n",
       "      <td>human</td>\n",
       "    </tr>\n",
       "  </tbody>\n",
       "</table>\n",
       "</div>"
      ],
      "text/plain": [
       "   Unnamed: 0            road_name   gender classification\n",
       "0           0  'S-Gravelandse Veer     male          human\n",
       "1           1       A. Moen straat     male          human\n",
       "2           2       Akkerwinde weg     male          human\n",
       "3           3      Akoleien straat  unknown          other\n",
       "4           4     Alexander straat     male          human"
      ]
     },
     "execution_count": 6,
     "metadata": {},
     "output_type": "execute_result"
    }
   ],
   "source": [
    "df = pd.read_csv('classified.csv')\n",
    "df.head()"
   ]
  },
  {
   "cell_type": "code",
   "execution_count": null,
   "metadata": {},
   "outputs": [],
   "source": [
    "# Merge the gender csv with the roads\n",
    "updated_ams= ams_roads.merge(df[['road_name','gender','classification']], how= 'inner',on='road_name')\n",
    "updated_ams.head()"
   ]
  },
  {
   "cell_type": "code",
   "execution_count": null,
   "metadata": {},
   "outputs": [],
   "source": [
    "# Save the updated shp\n",
    "updated_ams.to_file('updated_ams.shp')"
   ]
  },
  {
   "cell_type": "code",
   "execution_count": 8,
   "metadata": {},
   "outputs": [
    {
     "data": {
      "text/html": [
       "<div>\n",
       "<style scoped>\n",
       "    .dataframe tbody tr th:only-of-type {\n",
       "        vertical-align: middle;\n",
       "    }\n",
       "\n",
       "    .dataframe tbody tr th {\n",
       "        vertical-align: top;\n",
       "    }\n",
       "\n",
       "    .dataframe thead th {\n",
       "        text-align: right;\n",
       "    }\n",
       "</style>\n",
       "<table border=\"1\" class=\"dataframe\">\n",
       "  <thead>\n",
       "    <tr style=\"text-align: right;\">\n",
       "      <th></th>\n",
       "      <th>road_name</th>\n",
       "      <th>ROAD_TYPE</th>\n",
       "      <th>OSM_ID</th>\n",
       "      <th>gender</th>\n",
       "      <th>classifica</th>\n",
       "      <th>geometry</th>\n",
       "    </tr>\n",
       "  </thead>\n",
       "  <tbody>\n",
       "    <tr>\n",
       "      <th>0</th>\n",
       "      <td>Benelux baan</td>\n",
       "      <td>Secondary</td>\n",
       "      <td>7.362525e+06</td>\n",
       "      <td>male</td>\n",
       "      <td>human</td>\n",
       "      <td>LINESTRING (4.8693 52.32187, 4.8693 52.32191)</td>\n",
       "    </tr>\n",
       "    <tr>\n",
       "      <th>1</th>\n",
       "      <td>Flora weg</td>\n",
       "      <td>Unclassified</td>\n",
       "      <td>9.782571e+08</td>\n",
       "      <td>female</td>\n",
       "      <td>human</td>\n",
       "      <td>LINESTRING (4.91147 52.40009, 4.91142 52.40009...</td>\n",
       "    </tr>\n",
       "    <tr>\n",
       "      <th>2</th>\n",
       "      <td>Aster weg</td>\n",
       "      <td>Tertiary</td>\n",
       "      <td>1.011127e+09</td>\n",
       "      <td>unknown</td>\n",
       "      <td>other</td>\n",
       "      <td>LINESTRING (4.90246 52.39359, 4.9025 52.39354,...</td>\n",
       "    </tr>\n",
       "    <tr>\n",
       "      <th>3</th>\n",
       "      <td>Th. K. Van Lohuizen laan</td>\n",
       "      <td>Tertiary</td>\n",
       "      <td>9.312338e+08</td>\n",
       "      <td>male</td>\n",
       "      <td>human</td>\n",
       "      <td>LINESTRING (4.94618 52.3673, 4.94618 52.36742)</td>\n",
       "    </tr>\n",
       "    <tr>\n",
       "      <th>4</th>\n",
       "      <td>Th. K. Van Lohuizen laan</td>\n",
       "      <td>Tertiary</td>\n",
       "      <td>9.312338e+08</td>\n",
       "      <td>male</td>\n",
       "      <td>human</td>\n",
       "      <td>LINESTRING (4.9462 52.36663, 4.94619 52.36686)</td>\n",
       "    </tr>\n",
       "  </tbody>\n",
       "</table>\n",
       "</div>"
      ],
      "text/plain": [
       "                  road_name     ROAD_TYPE        OSM_ID   gender classifica  \\\n",
       "0              Benelux baan     Secondary  7.362525e+06     male      human   \n",
       "1                 Flora weg  Unclassified  9.782571e+08   female      human   \n",
       "2                 Aster weg      Tertiary  1.011127e+09  unknown      other   \n",
       "3  Th. K. Van Lohuizen laan      Tertiary  9.312338e+08     male      human   \n",
       "4  Th. K. Van Lohuizen laan      Tertiary  9.312338e+08     male      human   \n",
       "\n",
       "                                            geometry  \n",
       "0      LINESTRING (4.8693 52.32187, 4.8693 52.32191)  \n",
       "1  LINESTRING (4.91147 52.40009, 4.91142 52.40009...  \n",
       "2  LINESTRING (4.90246 52.39359, 4.9025 52.39354,...  \n",
       "3     LINESTRING (4.94618 52.3673, 4.94618 52.36742)  \n",
       "4     LINESTRING (4.9462 52.36663, 4.94619 52.36686)  "
      ]
     },
     "execution_count": 8,
     "metadata": {},
     "output_type": "execute_result"
    }
   ],
   "source": [
    "# Re-open it\n",
    "updated_ams= gpd.read_file('updated_ams.shp')\n",
    "updated_ams.head()"
   ]
  },
  {
   "cell_type": "markdown",
   "metadata": {},
   "source": [
    "### Calculate length\n",
    "\n",
    "#### To calculate the length of geometry we have to change the coordinate system to Amersfoort / RD New - Netherlands - Holland - Dutch EPSG:28992 from epsg:4326"
   ]
  },
  {
   "cell_type": "code",
   "execution_count": null,
   "metadata": {},
   "outputs": [],
   "source": [
    "updated_ams= updated_ams.to_crs(epsg=28992) "
   ]
  },
  {
   "cell_type": "code",
   "execution_count": 92,
   "metadata": {},
   "outputs": [
    {
     "data": {
      "text/html": [
       "<div>\n",
       "<style scoped>\n",
       "    .dataframe tbody tr th:only-of-type {\n",
       "        vertical-align: middle;\n",
       "    }\n",
       "\n",
       "    .dataframe tbody tr th {\n",
       "        vertical-align: top;\n",
       "    }\n",
       "\n",
       "    .dataframe thead th {\n",
       "        text-align: right;\n",
       "    }\n",
       "</style>\n",
       "<table border=\"1\" class=\"dataframe\">\n",
       "  <thead>\n",
       "    <tr style=\"text-align: right;\">\n",
       "      <th></th>\n",
       "      <th>road_name</th>\n",
       "      <th>ROAD_TYPE</th>\n",
       "      <th>OSM_ID</th>\n",
       "      <th>gender</th>\n",
       "      <th>classifica</th>\n",
       "      <th>geometry</th>\n",
       "      <th>length</th>\n",
       "      <th>length_km</th>\n",
       "    </tr>\n",
       "  </thead>\n",
       "  <tbody>\n",
       "    <tr>\n",
       "      <th>0</th>\n",
       "      <td>Benelux baan</td>\n",
       "      <td>Secondary</td>\n",
       "      <td>7.362525e+06</td>\n",
       "      <td>male</td>\n",
       "      <td>human</td>\n",
       "      <td>LINESTRING (119690.329 481673.206, 119690.361 ...</td>\n",
       "      <td>4.450584</td>\n",
       "      <td>0.004451</td>\n",
       "    </tr>\n",
       "    <tr>\n",
       "      <th>1</th>\n",
       "      <td>Flora weg</td>\n",
       "      <td>Unclassified</td>\n",
       "      <td>9.782571e+08</td>\n",
       "      <td>female</td>\n",
       "      <td>human</td>\n",
       "      <td>LINESTRING (122622.491 490356.49, 122619.088 4...</td>\n",
       "      <td>36.970572</td>\n",
       "      <td>0.036971</td>\n",
       "    </tr>\n",
       "    <tr>\n",
       "      <th>2</th>\n",
       "      <td>Aster weg</td>\n",
       "      <td>Tertiary</td>\n",
       "      <td>1.011127e+09</td>\n",
       "      <td>unknown</td>\n",
       "      <td>other</td>\n",
       "      <td>LINESTRING (122004.457 489637.34, 122007.142 4...</td>\n",
       "      <td>39.223737</td>\n",
       "      <td>0.039224</td>\n",
       "    </tr>\n",
       "    <tr>\n",
       "      <th>3</th>\n",
       "      <td>Th. K. Van Lohuizen laan</td>\n",
       "      <td>Tertiary</td>\n",
       "      <td>9.312338e+08</td>\n",
       "      <td>male</td>\n",
       "      <td>human</td>\n",
       "      <td>LINESTRING (124962.558 486693.21, 124962.639 4...</td>\n",
       "      <td>13.351844</td>\n",
       "      <td>0.013352</td>\n",
       "    </tr>\n",
       "    <tr>\n",
       "      <th>4</th>\n",
       "      <td>Th. K. Van Lohuizen laan</td>\n",
       "      <td>Tertiary</td>\n",
       "      <td>9.312338e+08</td>\n",
       "      <td>male</td>\n",
       "      <td>human</td>\n",
       "      <td>LINESTRING (124963.467 486618.656, 124962.941 ...</td>\n",
       "      <td>25.600094</td>\n",
       "      <td>0.025600</td>\n",
       "    </tr>\n",
       "  </tbody>\n",
       "</table>\n",
       "</div>"
      ],
      "text/plain": [
       "                  road_name     ROAD_TYPE        OSM_ID   gender classifica  \\\n",
       "0              Benelux baan     Secondary  7.362525e+06     male      human   \n",
       "1                 Flora weg  Unclassified  9.782571e+08   female      human   \n",
       "2                 Aster weg      Tertiary  1.011127e+09  unknown      other   \n",
       "3  Th. K. Van Lohuizen laan      Tertiary  9.312338e+08     male      human   \n",
       "4  Th. K. Van Lohuizen laan      Tertiary  9.312338e+08     male      human   \n",
       "\n",
       "                                            geometry     length  length_km  \n",
       "0  LINESTRING (119690.329 481673.206, 119690.361 ...   4.450584   0.004451  \n",
       "1  LINESTRING (122622.491 490356.49, 122619.088 4...  36.970572   0.036971  \n",
       "2  LINESTRING (122004.457 489637.34, 122007.142 4...  39.223737   0.039224  \n",
       "3  LINESTRING (124962.558 486693.21, 124962.639 4...  13.351844   0.013352  \n",
       "4  LINESTRING (124963.467 486618.656, 124962.941 ...  25.600094   0.025600  "
      ]
     },
     "execution_count": 92,
     "metadata": {},
     "output_type": "execute_result"
    }
   ],
   "source": [
    "updated_ams['length_km']= (updated_ams['geometry'].length/1000)\n",
    "updated_ams.head()"
   ]
  },
  {
   "cell_type": "markdown",
   "metadata": {},
   "source": [
    "## Calculate the length according to gender, plants, objects, other against the different road types"
   ]
  },
  {
   "cell_type": "code",
   "execution_count": null,
   "metadata": {},
   "outputs": [
    {
     "data": {
      "text/html": [
       "<div>\n",
       "<style scoped>\n",
       "    .dataframe tbody tr th:only-of-type {\n",
       "        vertical-align: middle;\n",
       "    }\n",
       "\n",
       "    .dataframe tbody tr th {\n",
       "        vertical-align: top;\n",
       "    }\n",
       "\n",
       "    .dataframe thead th {\n",
       "        text-align: right;\n",
       "    }\n",
       "</style>\n",
       "<table border=\"1\" class=\"dataframe\">\n",
       "  <thead>\n",
       "    <tr style=\"text-align: right;\">\n",
       "      <th></th>\n",
       "      <th>length_km</th>\n",
       "    </tr>\n",
       "    <tr>\n",
       "      <th>classifica</th>\n",
       "      <th></th>\n",
       "    </tr>\n",
       "  </thead>\n",
       "  <tbody>\n",
       "    <tr>\n",
       "      <th>other</th>\n",
       "      <td>601.679532</td>\n",
       "    </tr>\n",
       "  </tbody>\n",
       "</table>\n",
       "</div>"
      ],
      "text/plain": [
       "             length_km\n",
       "classifica            \n",
       "other       601.679532"
      ]
     },
     "execution_count": 99,
     "metadata": {},
     "output_type": "execute_result"
    }
   ],
   "source": [
    "#Total length of roads named after women\n",
    "female=updated_ams[updated_ams['gender']=='female']\n",
    "updated_ams[updated_ams['gender']=='female'].groupby('classifica').agg({'length_km': 'sum'})\n",
    "pd.pivot_table(female, index='ROAD_TYPE', values='length', aggfunc={'sum','count'}).head()"
   ]
  },
  {
   "cell_type": "code",
   "execution_count": null,
   "metadata": {},
   "outputs": [
    {
     "data": {
      "text/html": [
       "<div>\n",
       "<style scoped>\n",
       "    .dataframe tbody tr th:only-of-type {\n",
       "        vertical-align: middle;\n",
       "    }\n",
       "\n",
       "    .dataframe tbody tr th {\n",
       "        vertical-align: top;\n",
       "    }\n",
       "\n",
       "    .dataframe thead th {\n",
       "        text-align: right;\n",
       "    }\n",
       "</style>\n",
       "<table border=\"1\" class=\"dataframe\">\n",
       "  <thead>\n",
       "    <tr style=\"text-align: right;\">\n",
       "      <th></th>\n",
       "      <th>count</th>\n",
       "      <th>sum</th>\n",
       "    </tr>\n",
       "    <tr>\n",
       "      <th>ROAD_TYPE</th>\n",
       "      <th></th>\n",
       "      <th></th>\n",
       "    </tr>\n",
       "  </thead>\n",
       "  <tbody>\n",
       "    <tr>\n",
       "      <th>Busway</th>\n",
       "      <td>332</td>\n",
       "      <td>23950.324185</td>\n",
       "    </tr>\n",
       "    <tr>\n",
       "      <th>Construction</th>\n",
       "      <td>87</td>\n",
       "      <td>11798.402715</td>\n",
       "    </tr>\n",
       "    <tr>\n",
       "      <th>Corridor</th>\n",
       "      <td>3</td>\n",
       "      <td>357.402031</td>\n",
       "    </tr>\n",
       "    <tr>\n",
       "      <th>Cycleway</th>\n",
       "      <td>1393</td>\n",
       "      <td>149919.262175</td>\n",
       "    </tr>\n",
       "    <tr>\n",
       "      <th>Footway</th>\n",
       "      <td>878</td>\n",
       "      <td>55600.084555</td>\n",
       "    </tr>\n",
       "  </tbody>\n",
       "</table>\n",
       "</div>"
      ],
      "text/plain": [
       "              count            sum\n",
       "ROAD_TYPE                         \n",
       "Busway          332   23950.324185\n",
       "Construction     87   11798.402715\n",
       "Corridor          3     357.402031\n",
       "Cycleway       1393  149919.262175\n",
       "Footway         878   55600.084555"
      ]
     },
     "execution_count": 14,
     "metadata": {},
     "output_type": "execute_result"
    }
   ],
   "source": [
    "#Total length of roads named after men\n",
    "male=updated_ams[updated_ams['gender']=='male']\n",
    "pd.pivot_table(male, index='ROAD_TYPE', values='length', aggfunc={'sum','count'}).head()\n",
    "updated_ams[updated_ams['gender']=='male'].groupby('classifica').agg({'length_km': 'sum'})"
   ]
  },
  {
   "cell_type": "code",
   "execution_count": null,
   "metadata": {},
   "outputs": [
    {
     "data": {
      "text/html": [
       "<div>\n",
       "<style scoped>\n",
       "    .dataframe tbody tr th:only-of-type {\n",
       "        vertical-align: middle;\n",
       "    }\n",
       "\n",
       "    .dataframe tbody tr th {\n",
       "        vertical-align: top;\n",
       "    }\n",
       "\n",
       "    .dataframe thead th {\n",
       "        text-align: right;\n",
       "    }\n",
       "</style>\n",
       "<table border=\"1\" class=\"dataframe\">\n",
       "  <thead>\n",
       "    <tr style=\"text-align: right;\">\n",
       "      <th></th>\n",
       "      <th>count</th>\n",
       "      <th>sum</th>\n",
       "    </tr>\n",
       "    <tr>\n",
       "      <th>ROAD_TYPE</th>\n",
       "      <th></th>\n",
       "      <th></th>\n",
       "    </tr>\n",
       "  </thead>\n",
       "  <tbody>\n",
       "    <tr>\n",
       "      <th>Busway</th>\n",
       "      <td>26</td>\n",
       "      <td>1204.666751</td>\n",
       "    </tr>\n",
       "    <tr>\n",
       "      <th>Construction</th>\n",
       "      <td>9</td>\n",
       "      <td>666.628168</td>\n",
       "    </tr>\n",
       "    <tr>\n",
       "      <th>Cycleway</th>\n",
       "      <td>63</td>\n",
       "      <td>4086.127614</td>\n",
       "    </tr>\n",
       "    <tr>\n",
       "      <th>Footway</th>\n",
       "      <td>100</td>\n",
       "      <td>6178.481863</td>\n",
       "    </tr>\n",
       "    <tr>\n",
       "      <th>Living street</th>\n",
       "      <td>7</td>\n",
       "      <td>184.988659</td>\n",
       "    </tr>\n",
       "  </tbody>\n",
       "</table>\n",
       "</div>"
      ],
      "text/plain": [
       "               count          sum\n",
       "ROAD_TYPE                        \n",
       "Busway            26  1204.666751\n",
       "Construction       9   666.628168\n",
       "Cycleway          63  4086.127614\n",
       "Footway          100  6178.481863\n",
       "Living street      7   184.988659"
      ]
     },
     "execution_count": 15,
     "metadata": {},
     "output_type": "execute_result"
    }
   ],
   "source": [
    "#Total length of roads named after plants\n",
    "plants=updated_ams[updated_ams['classifica']=='Plant']\n",
    "pd.pivot_table(plants, index='ROAD_TYPE', values='length', aggfunc={'sum','count'}).head()\n",
    "updated_ams[updated_ams['classifica']=='Plant'].groupby('classifica').agg({'length_km': 'sum'})"
   ]
  },
  {
   "cell_type": "code",
   "execution_count": null,
   "metadata": {},
   "outputs": [
    {
     "data": {
      "text/html": [
       "<div>\n",
       "<style scoped>\n",
       "    .dataframe tbody tr th:only-of-type {\n",
       "        vertical-align: middle;\n",
       "    }\n",
       "\n",
       "    .dataframe tbody tr th {\n",
       "        vertical-align: top;\n",
       "    }\n",
       "\n",
       "    .dataframe thead th {\n",
       "        text-align: right;\n",
       "    }\n",
       "</style>\n",
       "<table border=\"1\" class=\"dataframe\">\n",
       "  <thead>\n",
       "    <tr style=\"text-align: right;\">\n",
       "      <th></th>\n",
       "      <th>count</th>\n",
       "      <th>sum</th>\n",
       "    </tr>\n",
       "    <tr>\n",
       "      <th>ROAD_TYPE</th>\n",
       "      <th></th>\n",
       "      <th></th>\n",
       "    </tr>\n",
       "  </thead>\n",
       "  <tbody>\n",
       "    <tr>\n",
       "      <th>Busway</th>\n",
       "      <td>12</td>\n",
       "      <td>439.299880</td>\n",
       "    </tr>\n",
       "    <tr>\n",
       "      <th>Cycleway</th>\n",
       "      <td>6</td>\n",
       "      <td>1107.039164</td>\n",
       "    </tr>\n",
       "    <tr>\n",
       "      <th>Footway</th>\n",
       "      <td>9</td>\n",
       "      <td>525.994043</td>\n",
       "    </tr>\n",
       "    <tr>\n",
       "      <th>Living street</th>\n",
       "      <td>2</td>\n",
       "      <td>287.822136</td>\n",
       "    </tr>\n",
       "    <tr>\n",
       "      <th>Path</th>\n",
       "      <td>1</td>\n",
       "      <td>110.369891</td>\n",
       "    </tr>\n",
       "  </tbody>\n",
       "</table>\n",
       "</div>"
      ],
      "text/plain": [
       "               count          sum\n",
       "ROAD_TYPE                        \n",
       "Busway            12   439.299880\n",
       "Cycleway           6  1107.039164\n",
       "Footway            9   525.994043\n",
       "Living street      2   287.822136\n",
       "Path               1   110.369891"
      ]
     },
     "execution_count": 18,
     "metadata": {},
     "output_type": "execute_result"
    }
   ],
   "source": [
    "#Total length of roads named after animals\n",
    "animals=updated_ams[updated_ams['classifica']=='Animal']\n",
    "pd.pivot_table(other, index='ROAD_TYPE', values='length', aggfunc={'sum','count'}).head()\n",
    "updated_ams[updated_ams['classifica']=='Animal'].groupby('classifica').agg({'length_km': 'sum'})"
   ]
  },
  {
   "cell_type": "code",
   "execution_count": null,
   "metadata": {},
   "outputs": [
    {
     "data": {
      "text/html": [
       "<div>\n",
       "<style scoped>\n",
       "    .dataframe tbody tr th:only-of-type {\n",
       "        vertical-align: middle;\n",
       "    }\n",
       "\n",
       "    .dataframe tbody tr th {\n",
       "        vertical-align: top;\n",
       "    }\n",
       "\n",
       "    .dataframe thead th {\n",
       "        text-align: right;\n",
       "    }\n",
       "</style>\n",
       "<table border=\"1\" class=\"dataframe\">\n",
       "  <thead>\n",
       "    <tr style=\"text-align: right;\">\n",
       "      <th></th>\n",
       "      <th>count</th>\n",
       "      <th>sum</th>\n",
       "    </tr>\n",
       "    <tr>\n",
       "      <th>ROAD_TYPE</th>\n",
       "      <th></th>\n",
       "      <th></th>\n",
       "    </tr>\n",
       "  </thead>\n",
       "  <tbody>\n",
       "    <tr>\n",
       "      <th>Busway</th>\n",
       "      <td>181</td>\n",
       "      <td>10301.810370</td>\n",
       "    </tr>\n",
       "    <tr>\n",
       "      <th>Construction</th>\n",
       "      <td>5</td>\n",
       "      <td>636.346437</td>\n",
       "    </tr>\n",
       "    <tr>\n",
       "      <th>Corridor</th>\n",
       "      <td>4</td>\n",
       "      <td>281.901900</td>\n",
       "    </tr>\n",
       "    <tr>\n",
       "      <th>Cycleway</th>\n",
       "      <td>722</td>\n",
       "      <td>74744.598360</td>\n",
       "    </tr>\n",
       "    <tr>\n",
       "      <th>Footway</th>\n",
       "      <td>858</td>\n",
       "      <td>52656.635270</td>\n",
       "    </tr>\n",
       "  </tbody>\n",
       "</table>\n",
       "</div>"
      ],
      "text/plain": [
       "              count           sum\n",
       "ROAD_TYPE                        \n",
       "Busway          181  10301.810370\n",
       "Construction      5    636.346437\n",
       "Corridor          4    281.901900\n",
       "Cycleway        722  74744.598360\n",
       "Footway         858  52656.635270"
      ]
     },
     "execution_count": 19,
     "metadata": {},
     "output_type": "execute_result"
    }
   ],
   "source": [
    "#Total length of roads named after other\n",
    "other=updated_ams[updated_ams['classifica']=='other']\n",
    "pd.pivot_table(other, index='ROAD_TYPE', values='length', aggfunc={'sum','count'}).head()\n",
    "updated_ams[updated_ams['classifica']=='other'].groupby('classifica').agg({'length_km': 'sum'})"
   ]
  },
  {
   "cell_type": "code",
   "execution_count": null,
   "metadata": {},
   "outputs": [
    {
     "data": {
      "text/html": [
       "<div>\n",
       "<style scoped>\n",
       "    .dataframe tbody tr th:only-of-type {\n",
       "        vertical-align: middle;\n",
       "    }\n",
       "\n",
       "    .dataframe tbody tr th {\n",
       "        vertical-align: top;\n",
       "    }\n",
       "\n",
       "    .dataframe thead th {\n",
       "        text-align: right;\n",
       "    }\n",
       "</style>\n",
       "<table border=\"1\" class=\"dataframe\">\n",
       "  <thead>\n",
       "    <tr style=\"text-align: right;\">\n",
       "      <th></th>\n",
       "      <th>count</th>\n",
       "      <th>sum</th>\n",
       "    </tr>\n",
       "    <tr>\n",
       "      <th>ROAD_TYPE</th>\n",
       "      <th></th>\n",
       "      <th></th>\n",
       "    </tr>\n",
       "  </thead>\n",
       "  <tbody>\n",
       "    <tr>\n",
       "      <th>Busway</th>\n",
       "      <td>102</td>\n",
       "      <td>7860.428942</td>\n",
       "    </tr>\n",
       "    <tr>\n",
       "      <th>Construction</th>\n",
       "      <td>18</td>\n",
       "      <td>1475.895471</td>\n",
       "    </tr>\n",
       "    <tr>\n",
       "      <th>Cycleway</th>\n",
       "      <td>449</td>\n",
       "      <td>57308.035171</td>\n",
       "    </tr>\n",
       "    <tr>\n",
       "      <th>Footway</th>\n",
       "      <td>144</td>\n",
       "      <td>12310.053475</td>\n",
       "    </tr>\n",
       "    <tr>\n",
       "      <th>Living street</th>\n",
       "      <td>31</td>\n",
       "      <td>2039.088863</td>\n",
       "    </tr>\n",
       "  </tbody>\n",
       "</table>\n",
       "</div>"
      ],
      "text/plain": [
       "               count           sum\n",
       "ROAD_TYPE                         \n",
       "Busway           102   7860.428942\n",
       "Construction      18   1475.895471\n",
       "Cycleway         449  57308.035171\n",
       "Footway          144  12310.053475\n",
       "Living street     31   2039.088863"
      ]
     },
     "execution_count": 20,
     "metadata": {},
     "output_type": "execute_result"
    }
   ],
   "source": [
    "#Total length of roads named after places\n",
    "places=updated_ams[updated_ams['classifica']=='Place']\n",
    "pd.pivot_table(places, index='ROAD_TYPE', values='length', aggfunc={'sum','count'}).head()\n",
    "updated_ams[updated_ams['classifica']=='Place'].groupby('classifica').agg({'length_km': 'sum'})"
   ]
  },
  {
   "cell_type": "code",
   "execution_count": null,
   "metadata": {},
   "outputs": [
    {
     "data": {
      "text/html": [
       "<div>\n",
       "<style scoped>\n",
       "    .dataframe tbody tr th:only-of-type {\n",
       "        vertical-align: middle;\n",
       "    }\n",
       "\n",
       "    .dataframe tbody tr th {\n",
       "        vertical-align: top;\n",
       "    }\n",
       "\n",
       "    .dataframe thead th {\n",
       "        text-align: right;\n",
       "    }\n",
       "</style>\n",
       "<table border=\"1\" class=\"dataframe\">\n",
       "  <thead>\n",
       "    <tr style=\"text-align: right;\">\n",
       "      <th></th>\n",
       "      <th>count</th>\n",
       "      <th>sum</th>\n",
       "    </tr>\n",
       "    <tr>\n",
       "      <th>ROAD_TYPE</th>\n",
       "      <th></th>\n",
       "      <th></th>\n",
       "    </tr>\n",
       "  </thead>\n",
       "  <tbody>\n",
       "    <tr>\n",
       "      <th>Busway</th>\n",
       "      <td>20</td>\n",
       "      <td>2238.652023</td>\n",
       "    </tr>\n",
       "    <tr>\n",
       "      <th>Construction</th>\n",
       "      <td>1</td>\n",
       "      <td>12.248811</td>\n",
       "    </tr>\n",
       "    <tr>\n",
       "      <th>Cycleway</th>\n",
       "      <td>112</td>\n",
       "      <td>6861.583012</td>\n",
       "    </tr>\n",
       "    <tr>\n",
       "      <th>Footway</th>\n",
       "      <td>81</td>\n",
       "      <td>5089.597667</td>\n",
       "    </tr>\n",
       "    <tr>\n",
       "      <th>Living street</th>\n",
       "      <td>18</td>\n",
       "      <td>1065.418035</td>\n",
       "    </tr>\n",
       "  </tbody>\n",
       "</table>\n",
       "</div>"
      ],
      "text/plain": [
       "               count          sum\n",
       "ROAD_TYPE                        \n",
       "Busway            20  2238.652023\n",
       "Construction       1    12.248811\n",
       "Cycleway         112  6861.583012\n",
       "Footway           81  5089.597667\n",
       "Living street     18  1065.418035"
      ]
     },
     "execution_count": 21,
     "metadata": {},
     "output_type": "execute_result"
    }
   ],
   "source": [
    "#Total length of roads named after objects\n",
    "objects=updated_ams[updated_ams['classifica']=='Object']\n",
    "pd.pivot_table(objects, index='ROAD_TYPE', values='length', aggfunc={'sum','count'}).head()\n",
    "updated_ams[updated_ams['classifica']=='Object'].groupby('classifica').agg({'length_km': 'sum'})"
   ]
  },
  {
   "cell_type": "markdown",
   "metadata": {},
   "source": [
    "### Calculate the percentage of streets names after plants, objects, plants, other and gender"
   ]
  },
  {
   "cell_type": "code",
   "execution_count": 29,
   "metadata": {},
   "outputs": [],
   "source": [
    "# Calculate the percentage of roads according to gender\n",
    "total_female_rd= (updated_ams['gender']=='female').sum()\n",
    "total_male_rd = (updated_ams['gender']== 'male').sum()\n",
    "total_plant_rd = (updated_ams['classifica']=='Plant').sum()\n",
    "total_place_rd = (updated_ams['classifica']=='Place').sum()\n",
    "total_object_rd = (updated_ams['classifica']=='Object').sum()\n",
    "total_animals_rd = (updated_ams['classifica']=='Animal').sum()\n",
    "total_other_rd = (updated_ams['classifica']=='other').sum()\n",
    "total_roads = 27731 \n"
   ]
  },
  {
   "cell_type": "code",
   "execution_count": 23,
   "metadata": {},
   "outputs": [
    {
     "data": {
      "text/plain": [
       "np.float64(11.734160325988965)"
      ]
     },
     "execution_count": 23,
     "metadata": {},
     "output_type": "execute_result"
    }
   ],
   "source": [
    "# Percentage of roads names after females\n",
    "percent_women= (total_female_rd/total_roads)*100\n",
    "percent_women"
   ]
  },
  {
   "cell_type": "code",
   "execution_count": 24,
   "metadata": {},
   "outputs": [
    {
     "data": {
      "text/plain": [
       "np.float64(44.827088817568786)"
      ]
     },
     "execution_count": 24,
     "metadata": {},
     "output_type": "execute_result"
    }
   ],
   "source": [
    "# Percentage of roads names after males\n",
    "percent_males= (total_male_rd/total_roads)*100\n",
    "percent_males"
   ]
  },
  {
   "cell_type": "code",
   "execution_count": 25,
   "metadata": {},
   "outputs": [
    {
     "data": {
      "text/plain": [
       "np.float64(2.848797374779128)"
      ]
     },
     "execution_count": 25,
     "metadata": {},
     "output_type": "execute_result"
    }
   ],
   "source": [
    "# Percentage of roads names after plants\n",
    "percent_plant= (total_plant_rd/total_roads)*100\n",
    "percent_plant"
   ]
  },
  {
   "cell_type": "code",
   "execution_count": 26,
   "metadata": {},
   "outputs": [
    {
     "data": {
      "text/plain": [
       "np.float64(10.861490750423714)"
      ]
     },
     "execution_count": 26,
     "metadata": {},
     "output_type": "execute_result"
    }
   ],
   "source": [
    "# Percentage of roads names after places\n",
    "percent_place= (total_place_rd/total_roads)*100\n",
    "percent_place"
   ]
  },
  {
   "cell_type": "code",
   "execution_count": 27,
   "metadata": {},
   "outputs": [
    {
     "data": {
      "text/plain": [
       "np.float64(2.8199487937687064)"
      ]
     },
     "execution_count": 27,
     "metadata": {},
     "output_type": "execute_result"
    }
   ],
   "source": [
    "# Percentage of roads names after objects\n",
    "percent_object= (total_object_rd/total_roads)*100\n",
    "percent_object"
   ]
  },
  {
   "cell_type": "code",
   "execution_count": 30,
   "metadata": {},
   "outputs": [
    {
     "data": {
      "text/plain": [
       "np.float64(0.8690635029389491)"
      ]
     },
     "execution_count": 30,
     "metadata": {},
     "output_type": "execute_result"
    }
   ],
   "source": [
    "# Percentage of roads names after animals\n",
    "percent_animals= (total_animals_rd/total_roads)*100\n",
    "percent_animals"
   ]
  }
 ],
 "metadata": {
  "kernelspec": {
   "display_name": "shemaps",
   "language": "python",
   "name": "python3"
  },
  "language_info": {
   "codemirror_mode": {
    "name": "ipython",
    "version": 3
   },
   "file_extension": ".py",
   "mimetype": "text/x-python",
   "name": "python",
   "nbconvert_exporter": "python",
   "pygments_lexer": "ipython3",
   "version": "3.13.2"
  }
 },
 "nbformat": 4,
 "nbformat_minor": 2
}
